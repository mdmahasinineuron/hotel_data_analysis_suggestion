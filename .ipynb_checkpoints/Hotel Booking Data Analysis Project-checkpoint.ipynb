{
 "cells": [
  {
   "cell_type": "code",
   "execution_count": 115,
   "id": "e95c146f",
   "metadata": {},
   "outputs": [],
   "source": [
    "import pandas as pd\n",
    "import numpy as np\n",
    "import matplotlib.pyplot as plt\n",
    "import seaborn as sns\n",
    "import warnings\n",
    "warnings.filterwarnings(\"ignore\")"
   ]
  },
  {
   "cell_type": "code",
   "execution_count": 116,
   "id": "4940a7d5",
   "metadata": {},
   "outputs": [
    {
     "data": {
      "text/html": [
       "<div>\n",
       "<style scoped>\n",
       "    .dataframe tbody tr th:only-of-type {\n",
       "        vertical-align: middle;\n",
       "    }\n",
       "\n",
       "    .dataframe tbody tr th {\n",
       "        vertical-align: top;\n",
       "    }\n",
       "\n",
       "    .dataframe thead th {\n",
       "        text-align: right;\n",
       "    }\n",
       "</style>\n",
       "<table border=\"1\" class=\"dataframe\">\n",
       "  <thead>\n",
       "    <tr style=\"text-align: right;\">\n",
       "      <th></th>\n",
       "      <th>hotel</th>\n",
       "      <th>is_canceled</th>\n",
       "      <th>lead_time</th>\n",
       "      <th>arrival_date_year</th>\n",
       "      <th>arrival_date_month</th>\n",
       "      <th>arrival_date_week_number</th>\n",
       "      <th>arrival_date_day_of_month</th>\n",
       "      <th>stays_in_weekend_nights</th>\n",
       "      <th>stays_in_week_nights</th>\n",
       "      <th>adults</th>\n",
       "      <th>...</th>\n",
       "      <th>deposit_type</th>\n",
       "      <th>agent</th>\n",
       "      <th>company</th>\n",
       "      <th>days_in_waiting_list</th>\n",
       "      <th>customer_type</th>\n",
       "      <th>adr</th>\n",
       "      <th>required_car_parking_spaces</th>\n",
       "      <th>total_of_special_requests</th>\n",
       "      <th>reservation_status</th>\n",
       "      <th>reservation_status_date</th>\n",
       "    </tr>\n",
       "  </thead>\n",
       "  <tbody>\n",
       "    <tr>\n",
       "      <th>0</th>\n",
       "      <td>Resort Hotel</td>\n",
       "      <td>0</td>\n",
       "      <td>342</td>\n",
       "      <td>2015</td>\n",
       "      <td>July</td>\n",
       "      <td>27</td>\n",
       "      <td>1</td>\n",
       "      <td>0</td>\n",
       "      <td>0</td>\n",
       "      <td>2</td>\n",
       "      <td>...</td>\n",
       "      <td>No Deposit</td>\n",
       "      <td>NaN</td>\n",
       "      <td>NaN</td>\n",
       "      <td>0</td>\n",
       "      <td>Transient</td>\n",
       "      <td>0.0</td>\n",
       "      <td>0</td>\n",
       "      <td>0</td>\n",
       "      <td>Check-Out</td>\n",
       "      <td>2015-07-01</td>\n",
       "    </tr>\n",
       "    <tr>\n",
       "      <th>1</th>\n",
       "      <td>Resort Hotel</td>\n",
       "      <td>0</td>\n",
       "      <td>737</td>\n",
       "      <td>2015</td>\n",
       "      <td>July</td>\n",
       "      <td>27</td>\n",
       "      <td>1</td>\n",
       "      <td>0</td>\n",
       "      <td>0</td>\n",
       "      <td>2</td>\n",
       "      <td>...</td>\n",
       "      <td>No Deposit</td>\n",
       "      <td>NaN</td>\n",
       "      <td>NaN</td>\n",
       "      <td>0</td>\n",
       "      <td>Transient</td>\n",
       "      <td>0.0</td>\n",
       "      <td>0</td>\n",
       "      <td>0</td>\n",
       "      <td>Check-Out</td>\n",
       "      <td>2015-07-01</td>\n",
       "    </tr>\n",
       "    <tr>\n",
       "      <th>2</th>\n",
       "      <td>Resort Hotel</td>\n",
       "      <td>0</td>\n",
       "      <td>7</td>\n",
       "      <td>2015</td>\n",
       "      <td>July</td>\n",
       "      <td>27</td>\n",
       "      <td>1</td>\n",
       "      <td>0</td>\n",
       "      <td>1</td>\n",
       "      <td>1</td>\n",
       "      <td>...</td>\n",
       "      <td>No Deposit</td>\n",
       "      <td>NaN</td>\n",
       "      <td>NaN</td>\n",
       "      <td>0</td>\n",
       "      <td>Transient</td>\n",
       "      <td>75.0</td>\n",
       "      <td>0</td>\n",
       "      <td>0</td>\n",
       "      <td>Check-Out</td>\n",
       "      <td>2015-07-02</td>\n",
       "    </tr>\n",
       "    <tr>\n",
       "      <th>3</th>\n",
       "      <td>Resort Hotel</td>\n",
       "      <td>0</td>\n",
       "      <td>13</td>\n",
       "      <td>2015</td>\n",
       "      <td>July</td>\n",
       "      <td>27</td>\n",
       "      <td>1</td>\n",
       "      <td>0</td>\n",
       "      <td>1</td>\n",
       "      <td>1</td>\n",
       "      <td>...</td>\n",
       "      <td>No Deposit</td>\n",
       "      <td>304.0</td>\n",
       "      <td>NaN</td>\n",
       "      <td>0</td>\n",
       "      <td>Transient</td>\n",
       "      <td>75.0</td>\n",
       "      <td>0</td>\n",
       "      <td>0</td>\n",
       "      <td>Check-Out</td>\n",
       "      <td>2015-07-02</td>\n",
       "    </tr>\n",
       "    <tr>\n",
       "      <th>4</th>\n",
       "      <td>Resort Hotel</td>\n",
       "      <td>0</td>\n",
       "      <td>14</td>\n",
       "      <td>2015</td>\n",
       "      <td>July</td>\n",
       "      <td>27</td>\n",
       "      <td>1</td>\n",
       "      <td>0</td>\n",
       "      <td>2</td>\n",
       "      <td>2</td>\n",
       "      <td>...</td>\n",
       "      <td>No Deposit</td>\n",
       "      <td>240.0</td>\n",
       "      <td>NaN</td>\n",
       "      <td>0</td>\n",
       "      <td>Transient</td>\n",
       "      <td>98.0</td>\n",
       "      <td>0</td>\n",
       "      <td>1</td>\n",
       "      <td>Check-Out</td>\n",
       "      <td>2015-07-03</td>\n",
       "    </tr>\n",
       "  </tbody>\n",
       "</table>\n",
       "<p>5 rows × 32 columns</p>\n",
       "</div>"
      ],
      "text/plain": [
       "          hotel  is_canceled  lead_time  arrival_date_year arrival_date_month  \\\n",
       "0  Resort Hotel            0        342               2015               July   \n",
       "1  Resort Hotel            0        737               2015               July   \n",
       "2  Resort Hotel            0          7               2015               July   \n",
       "3  Resort Hotel            0         13               2015               July   \n",
       "4  Resort Hotel            0         14               2015               July   \n",
       "\n",
       "   arrival_date_week_number  arrival_date_day_of_month  \\\n",
       "0                        27                          1   \n",
       "1                        27                          1   \n",
       "2                        27                          1   \n",
       "3                        27                          1   \n",
       "4                        27                          1   \n",
       "\n",
       "   stays_in_weekend_nights  stays_in_week_nights  adults  ...  deposit_type  \\\n",
       "0                        0                     0       2  ...    No Deposit   \n",
       "1                        0                     0       2  ...    No Deposit   \n",
       "2                        0                     1       1  ...    No Deposit   \n",
       "3                        0                     1       1  ...    No Deposit   \n",
       "4                        0                     2       2  ...    No Deposit   \n",
       "\n",
       "   agent company days_in_waiting_list customer_type   adr  \\\n",
       "0    NaN     NaN                    0     Transient   0.0   \n",
       "1    NaN     NaN                    0     Transient   0.0   \n",
       "2    NaN     NaN                    0     Transient  75.0   \n",
       "3  304.0     NaN                    0     Transient  75.0   \n",
       "4  240.0     NaN                    0     Transient  98.0   \n",
       "\n",
       "   required_car_parking_spaces  total_of_special_requests  reservation_status  \\\n",
       "0                            0                          0           Check-Out   \n",
       "1                            0                          0           Check-Out   \n",
       "2                            0                          0           Check-Out   \n",
       "3                            0                          0           Check-Out   \n",
       "4                            0                          1           Check-Out   \n",
       "\n",
       "  reservation_status_date  \n",
       "0              2015-07-01  \n",
       "1              2015-07-01  \n",
       "2              2015-07-02  \n",
       "3              2015-07-02  \n",
       "4              2015-07-03  \n",
       "\n",
       "[5 rows x 32 columns]"
      ]
     },
     "execution_count": 116,
     "metadata": {},
     "output_type": "execute_result"
    }
   ],
   "source": [
    "Df = pd.read_csv(\"hotel_bookings.csv\")\n",
    "Df.head()"
   ]
  },
  {
   "cell_type": "code",
   "execution_count": 117,
   "id": "2d9520e5",
   "metadata": {},
   "outputs": [
    {
     "name": "stdout",
     "output_type": "stream",
     "text": [
      "<class 'pandas.core.frame.DataFrame'>\n",
      "RangeIndex: 119390 entries, 0 to 119389\n",
      "Data columns (total 32 columns):\n",
      " #   Column                          Non-Null Count   Dtype  \n",
      "---  ------                          --------------   -----  \n",
      " 0   hotel                           119390 non-null  object \n",
      " 1   is_canceled                     119390 non-null  int64  \n",
      " 2   lead_time                       119390 non-null  int64  \n",
      " 3   arrival_date_year               119390 non-null  int64  \n",
      " 4   arrival_date_month              119390 non-null  object \n",
      " 5   arrival_date_week_number        119390 non-null  int64  \n",
      " 6   arrival_date_day_of_month       119390 non-null  int64  \n",
      " 7   stays_in_weekend_nights         119390 non-null  int64  \n",
      " 8   stays_in_week_nights            119390 non-null  int64  \n",
      " 9   adults                          119390 non-null  int64  \n",
      " 10  children                        119386 non-null  float64\n",
      " 11  babies                          119390 non-null  int64  \n",
      " 12  meal                            119390 non-null  object \n",
      " 13  country                         118902 non-null  object \n",
      " 14  market_segment                  119390 non-null  object \n",
      " 15  distribution_channel            119390 non-null  object \n",
      " 16  is_repeated_guest               119390 non-null  int64  \n",
      " 17  previous_cancellations          119390 non-null  int64  \n",
      " 18  previous_bookings_not_canceled  119390 non-null  int64  \n",
      " 19  reserved_room_type              119390 non-null  object \n",
      " 20  assigned_room_type              119390 non-null  object \n",
      " 21  booking_changes                 119390 non-null  int64  \n",
      " 22  deposit_type                    119390 non-null  object \n",
      " 23  agent                           103050 non-null  float64\n",
      " 24  company                         6797 non-null    float64\n",
      " 25  days_in_waiting_list            119390 non-null  int64  \n",
      " 26  customer_type                   119390 non-null  object \n",
      " 27  adr                             119390 non-null  float64\n",
      " 28  required_car_parking_spaces     119390 non-null  int64  \n",
      " 29  total_of_special_requests       119390 non-null  int64  \n",
      " 30  reservation_status              119390 non-null  object \n",
      " 31  reservation_status_date         119390 non-null  object \n",
      "dtypes: float64(4), int64(16), object(12)\n",
      "memory usage: 29.1+ MB\n"
     ]
    }
   ],
   "source": [
    "Df.info()"
   ]
  },
  {
   "cell_type": "markdown",
   "id": "019e60d1",
   "metadata": {},
   "source": [
    "## Converting reservation_status_date column object to Data_time"
   ]
  },
  {
   "cell_type": "code",
   "execution_count": 118,
   "id": "e27c4124",
   "metadata": {},
   "outputs": [
    {
     "name": "stdout",
     "output_type": "stream",
     "text": [
      "<class 'pandas.core.frame.DataFrame'>\n",
      "RangeIndex: 119390 entries, 0 to 119389\n",
      "Data columns (total 32 columns):\n",
      " #   Column                          Non-Null Count   Dtype         \n",
      "---  ------                          --------------   -----         \n",
      " 0   hotel                           119390 non-null  object        \n",
      " 1   is_canceled                     119390 non-null  int64         \n",
      " 2   lead_time                       119390 non-null  int64         \n",
      " 3   arrival_date_year               119390 non-null  int64         \n",
      " 4   arrival_date_month              119390 non-null  object        \n",
      " 5   arrival_date_week_number        119390 non-null  int64         \n",
      " 6   arrival_date_day_of_month       119390 non-null  int64         \n",
      " 7   stays_in_weekend_nights         119390 non-null  int64         \n",
      " 8   stays_in_week_nights            119390 non-null  int64         \n",
      " 9   adults                          119390 non-null  int64         \n",
      " 10  children                        119386 non-null  float64       \n",
      " 11  babies                          119390 non-null  int64         \n",
      " 12  meal                            119390 non-null  object        \n",
      " 13  country                         118902 non-null  object        \n",
      " 14  market_segment                  119390 non-null  object        \n",
      " 15  distribution_channel            119390 non-null  object        \n",
      " 16  is_repeated_guest               119390 non-null  int64         \n",
      " 17  previous_cancellations          119390 non-null  int64         \n",
      " 18  previous_bookings_not_canceled  119390 non-null  int64         \n",
      " 19  reserved_room_type              119390 non-null  object        \n",
      " 20  assigned_room_type              119390 non-null  object        \n",
      " 21  booking_changes                 119390 non-null  int64         \n",
      " 22  deposit_type                    119390 non-null  object        \n",
      " 23  agent                           103050 non-null  float64       \n",
      " 24  company                         6797 non-null    float64       \n",
      " 25  days_in_waiting_list            119390 non-null  int64         \n",
      " 26  customer_type                   119390 non-null  object        \n",
      " 27  adr                             119390 non-null  float64       \n",
      " 28  required_car_parking_spaces     119390 non-null  int64         \n",
      " 29  total_of_special_requests       119390 non-null  int64         \n",
      " 30  reservation_status              119390 non-null  object        \n",
      " 31  reservation_status_date         119390 non-null  datetime64[ns]\n",
      "dtypes: datetime64[ns](1), float64(4), int64(16), object(11)\n",
      "memory usage: 29.1+ MB\n",
      "None\n"
     ]
    }
   ],
   "source": [
    "Df[\"reservation_status_date\"] = pd.to_datetime(Df[\"reservation_status_date\"])\n",
    "print(Df.info())"
   ]
  },
  {
   "cell_type": "markdown",
   "id": "d333c4e9",
   "metadata": {},
   "source": [
    "## Droping unnessary column for this analysis"
   ]
  },
  {
   "cell_type": "code",
   "execution_count": 119,
   "id": "95b6ecc7",
   "metadata": {},
   "outputs": [
    {
     "data": {
      "text/plain": [
       "Index(['hotel', 'is_canceled', 'lead_time', 'arrival_date_year',\n",
       "       'arrival_date_month', 'arrival_date_week_number',\n",
       "       'arrival_date_day_of_month', 'stays_in_weekend_nights',\n",
       "       'stays_in_week_nights', 'adults', 'meal', 'country', 'market_segment',\n",
       "       'distribution_channel', 'is_repeated_guest', 'previous_cancellations',\n",
       "       'previous_bookings_not_canceled', 'reserved_room_type',\n",
       "       'assigned_room_type', 'booking_changes', 'deposit_type', 'agent',\n",
       "       'company', 'days_in_waiting_list', 'customer_type', 'adr',\n",
       "       'total_of_special_requests', 'reservation_status',\n",
       "       'reservation_status_date'],\n",
       "      dtype='object')"
      ]
     },
     "execution_count": 119,
     "metadata": {},
     "output_type": "execute_result"
    }
   ],
   "source": [
    "Df.drop(['children', 'babies','required_car_parking_spaces'], axis = 1, inplace=True)\n",
    "Df.columns"
   ]
  },
  {
   "cell_type": "code",
   "execution_count": 120,
   "id": "e9c48313",
   "metadata": {},
   "outputs": [
    {
     "name": "stdout",
     "output_type": "stream",
     "text": [
      "<class 'pandas.core.frame.DataFrame'>\n",
      "RangeIndex: 119390 entries, 0 to 119389\n",
      "Data columns (total 29 columns):\n",
      " #   Column                          Non-Null Count   Dtype         \n",
      "---  ------                          --------------   -----         \n",
      " 0   hotel                           119390 non-null  object        \n",
      " 1   is_canceled                     119390 non-null  int64         \n",
      " 2   lead_time                       119390 non-null  int64         \n",
      " 3   arrival_date_year               119390 non-null  int64         \n",
      " 4   arrival_date_month              119390 non-null  object        \n",
      " 5   arrival_date_week_number        119390 non-null  int64         \n",
      " 6   arrival_date_day_of_month       119390 non-null  int64         \n",
      " 7   stays_in_weekend_nights         119390 non-null  int64         \n",
      " 8   stays_in_week_nights            119390 non-null  int64         \n",
      " 9   adults                          119390 non-null  int64         \n",
      " 10  meal                            119390 non-null  object        \n",
      " 11  country                         118902 non-null  object        \n",
      " 12  market_segment                  119390 non-null  object        \n",
      " 13  distribution_channel            119390 non-null  object        \n",
      " 14  is_repeated_guest               119390 non-null  int64         \n",
      " 15  previous_cancellations          119390 non-null  int64         \n",
      " 16  previous_bookings_not_canceled  119390 non-null  int64         \n",
      " 17  reserved_room_type              119390 non-null  object        \n",
      " 18  assigned_room_type              119390 non-null  object        \n",
      " 19  booking_changes                 119390 non-null  int64         \n",
      " 20  deposit_type                    119390 non-null  object        \n",
      " 21  agent                           103050 non-null  float64       \n",
      " 22  company                         6797 non-null    float64       \n",
      " 23  days_in_waiting_list            119390 non-null  int64         \n",
      " 24  customer_type                   119390 non-null  object        \n",
      " 25  adr                             119390 non-null  float64       \n",
      " 26  total_of_special_requests       119390 non-null  int64         \n",
      " 27  reservation_status              119390 non-null  object        \n",
      " 28  reservation_status_date         119390 non-null  datetime64[ns]\n",
      "dtypes: datetime64[ns](1), float64(3), int64(14), object(11)\n",
      "memory usage: 26.4+ MB\n"
     ]
    }
   ],
   "source": [
    "Df.info()"
   ]
  },
  {
   "cell_type": "markdown",
   "id": "a37fe1a5",
   "metadata": {},
   "source": [
    "## Droping and finding null values"
   ]
  },
  {
   "cell_type": "markdown",
   "id": "a2fe90d5",
   "metadata": {},
   "source": [
    "#### Handeling Missing values"
   ]
  },
  {
   "cell_type": "code",
   "execution_count": 121,
   "id": "cb72a61e",
   "metadata": {},
   "outputs": [
    {
     "data": {
      "text/plain": [
       "company                           112593\n",
       "agent                              16340\n",
       "country                              488\n",
       "hotel                                  0\n",
       "previous_cancellations                 0\n",
       "reservation_status                     0\n",
       "total_of_special_requests              0\n",
       "adr                                    0\n",
       "customer_type                          0\n",
       "days_in_waiting_list                   0\n",
       "deposit_type                           0\n",
       "booking_changes                        0\n",
       "assigned_room_type                     0\n",
       "reserved_room_type                     0\n",
       "previous_bookings_not_canceled         0\n",
       "is_repeated_guest                      0\n",
       "is_canceled                            0\n",
       "distribution_channel                   0\n",
       "market_segment                         0\n",
       "meal                                   0\n",
       "adults                                 0\n",
       "stays_in_week_nights                   0\n",
       "stays_in_weekend_nights                0\n",
       "arrival_date_day_of_month              0\n",
       "arrival_date_week_number               0\n",
       "arrival_date_month                     0\n",
       "arrival_date_year                      0\n",
       "lead_time                              0\n",
       "reservation_status_date                0\n",
       "dtype: int64"
      ]
     },
     "execution_count": 121,
     "metadata": {},
     "output_type": "execute_result"
    }
   ],
   "source": [
    "Df.isnull().sum().sort_values(ascending=False)"
   ]
  },
  {
   "cell_type": "code",
   "execution_count": 122,
   "id": "9ddbd432",
   "metadata": {},
   "outputs": [
    {
     "data": {
      "text/plain": [
       "hotel                             0\n",
       "is_canceled                       0\n",
       "lead_time                         0\n",
       "arrival_date_year                 0\n",
       "arrival_date_month                0\n",
       "arrival_date_week_number          0\n",
       "arrival_date_day_of_month         0\n",
       "stays_in_weekend_nights           0\n",
       "stays_in_week_nights              0\n",
       "adults                            0\n",
       "meal                              0\n",
       "country                           0\n",
       "market_segment                    0\n",
       "distribution_channel              0\n",
       "is_repeated_guest                 0\n",
       "previous_cancellations            0\n",
       "previous_bookings_not_canceled    0\n",
       "reserved_room_type                0\n",
       "assigned_room_type                0\n",
       "booking_changes                   0\n",
       "deposit_type                      0\n",
       "days_in_waiting_list              0\n",
       "customer_type                     0\n",
       "adr                               0\n",
       "total_of_special_requests         0\n",
       "reservation_status                0\n",
       "reservation_status_date           0\n",
       "dtype: int64"
      ]
     },
     "execution_count": 122,
     "metadata": {},
     "output_type": "execute_result"
    }
   ],
   "source": [
    "Df = Df.drop(['company','agent'],axis=1)\n",
    "Df = Df.dropna()\n",
    "Df.isnull().sum()"
   ]
  },
  {
   "cell_type": "markdown",
   "id": "56fd270d",
   "metadata": {},
   "source": [
    "#### There is no missing Values"
   ]
  },
  {
   "cell_type": "code",
   "execution_count": 123,
   "id": "6aee6f5c",
   "metadata": {},
   "outputs": [
    {
     "data": {
      "text/plain": [
       "(118902, 27)"
      ]
     },
     "execution_count": 123,
     "metadata": {},
     "output_type": "execute_result"
    }
   ],
   "source": [
    "Df.shape"
   ]
  },
  {
   "cell_type": "markdown",
   "id": "d298824c",
   "metadata": {},
   "source": [
    "# Handeling out liers"
   ]
  },
  {
   "cell_type": "code",
   "execution_count": 124,
   "id": "72c40d53",
   "metadata": {},
   "outputs": [
    {
     "data": {
      "text/html": [
       "<div>\n",
       "<style scoped>\n",
       "    .dataframe tbody tr th:only-of-type {\n",
       "        vertical-align: middle;\n",
       "    }\n",
       "\n",
       "    .dataframe tbody tr th {\n",
       "        vertical-align: top;\n",
       "    }\n",
       "\n",
       "    .dataframe thead th {\n",
       "        text-align: right;\n",
       "    }\n",
       "</style>\n",
       "<table border=\"1\" class=\"dataframe\">\n",
       "  <thead>\n",
       "    <tr style=\"text-align: right;\">\n",
       "      <th></th>\n",
       "      <th>is_canceled</th>\n",
       "      <th>lead_time</th>\n",
       "      <th>arrival_date_year</th>\n",
       "      <th>arrival_date_week_number</th>\n",
       "      <th>arrival_date_day_of_month</th>\n",
       "      <th>stays_in_weekend_nights</th>\n",
       "      <th>stays_in_week_nights</th>\n",
       "      <th>adults</th>\n",
       "      <th>is_repeated_guest</th>\n",
       "      <th>previous_cancellations</th>\n",
       "      <th>previous_bookings_not_canceled</th>\n",
       "      <th>booking_changes</th>\n",
       "      <th>days_in_waiting_list</th>\n",
       "      <th>adr</th>\n",
       "      <th>total_of_special_requests</th>\n",
       "    </tr>\n",
       "  </thead>\n",
       "  <tbody>\n",
       "    <tr>\n",
       "      <th>count</th>\n",
       "      <td>118902.000000</td>\n",
       "      <td>118902.000000</td>\n",
       "      <td>118902.000000</td>\n",
       "      <td>118902.000000</td>\n",
       "      <td>118902.000000</td>\n",
       "      <td>118902.000000</td>\n",
       "      <td>118902.000000</td>\n",
       "      <td>118902.000000</td>\n",
       "      <td>118902.000000</td>\n",
       "      <td>118902.000000</td>\n",
       "      <td>118902.000000</td>\n",
       "      <td>118902.000000</td>\n",
       "      <td>118902.000000</td>\n",
       "      <td>118902.000000</td>\n",
       "      <td>118902.000000</td>\n",
       "    </tr>\n",
       "    <tr>\n",
       "      <th>mean</th>\n",
       "      <td>0.371373</td>\n",
       "      <td>104.308027</td>\n",
       "      <td>2016.157617</td>\n",
       "      <td>27.166726</td>\n",
       "      <td>15.800567</td>\n",
       "      <td>0.928891</td>\n",
       "      <td>2.502136</td>\n",
       "      <td>1.858404</td>\n",
       "      <td>0.032010</td>\n",
       "      <td>0.087139</td>\n",
       "      <td>0.131629</td>\n",
       "      <td>0.221174</td>\n",
       "      <td>2.330676</td>\n",
       "      <td>102.000808</td>\n",
       "      <td>0.571706</td>\n",
       "    </tr>\n",
       "    <tr>\n",
       "      <th>std</th>\n",
       "      <td>0.483174</td>\n",
       "      <td>106.903127</td>\n",
       "      <td>0.707479</td>\n",
       "      <td>13.589774</td>\n",
       "      <td>8.780371</td>\n",
       "      <td>0.996211</td>\n",
       "      <td>1.900165</td>\n",
       "      <td>0.578576</td>\n",
       "      <td>0.176026</td>\n",
       "      <td>0.845855</td>\n",
       "      <td>1.484647</td>\n",
       "      <td>0.652775</td>\n",
       "      <td>17.630161</td>\n",
       "      <td>50.487004</td>\n",
       "      <td>0.792678</td>\n",
       "    </tr>\n",
       "    <tr>\n",
       "      <th>min</th>\n",
       "      <td>0.000000</td>\n",
       "      <td>0.000000</td>\n",
       "      <td>2015.000000</td>\n",
       "      <td>1.000000</td>\n",
       "      <td>1.000000</td>\n",
       "      <td>0.000000</td>\n",
       "      <td>0.000000</td>\n",
       "      <td>0.000000</td>\n",
       "      <td>0.000000</td>\n",
       "      <td>0.000000</td>\n",
       "      <td>0.000000</td>\n",
       "      <td>0.000000</td>\n",
       "      <td>0.000000</td>\n",
       "      <td>-6.380000</td>\n",
       "      <td>0.000000</td>\n",
       "    </tr>\n",
       "    <tr>\n",
       "      <th>25%</th>\n",
       "      <td>0.000000</td>\n",
       "      <td>18.000000</td>\n",
       "      <td>2016.000000</td>\n",
       "      <td>16.000000</td>\n",
       "      <td>8.000000</td>\n",
       "      <td>0.000000</td>\n",
       "      <td>1.000000</td>\n",
       "      <td>2.000000</td>\n",
       "      <td>0.000000</td>\n",
       "      <td>0.000000</td>\n",
       "      <td>0.000000</td>\n",
       "      <td>0.000000</td>\n",
       "      <td>0.000000</td>\n",
       "      <td>70.000000</td>\n",
       "      <td>0.000000</td>\n",
       "    </tr>\n",
       "    <tr>\n",
       "      <th>50%</th>\n",
       "      <td>0.000000</td>\n",
       "      <td>69.000000</td>\n",
       "      <td>2016.000000</td>\n",
       "      <td>28.000000</td>\n",
       "      <td>16.000000</td>\n",
       "      <td>1.000000</td>\n",
       "      <td>2.000000</td>\n",
       "      <td>2.000000</td>\n",
       "      <td>0.000000</td>\n",
       "      <td>0.000000</td>\n",
       "      <td>0.000000</td>\n",
       "      <td>0.000000</td>\n",
       "      <td>0.000000</td>\n",
       "      <td>95.000000</td>\n",
       "      <td>0.000000</td>\n",
       "    </tr>\n",
       "    <tr>\n",
       "      <th>75%</th>\n",
       "      <td>1.000000</td>\n",
       "      <td>161.000000</td>\n",
       "      <td>2017.000000</td>\n",
       "      <td>38.000000</td>\n",
       "      <td>23.000000</td>\n",
       "      <td>2.000000</td>\n",
       "      <td>3.000000</td>\n",
       "      <td>2.000000</td>\n",
       "      <td>0.000000</td>\n",
       "      <td>0.000000</td>\n",
       "      <td>0.000000</td>\n",
       "      <td>0.000000</td>\n",
       "      <td>0.000000</td>\n",
       "      <td>126.000000</td>\n",
       "      <td>1.000000</td>\n",
       "    </tr>\n",
       "    <tr>\n",
       "      <th>max</th>\n",
       "      <td>1.000000</td>\n",
       "      <td>737.000000</td>\n",
       "      <td>2017.000000</td>\n",
       "      <td>53.000000</td>\n",
       "      <td>31.000000</td>\n",
       "      <td>16.000000</td>\n",
       "      <td>41.000000</td>\n",
       "      <td>55.000000</td>\n",
       "      <td>1.000000</td>\n",
       "      <td>26.000000</td>\n",
       "      <td>72.000000</td>\n",
       "      <td>21.000000</td>\n",
       "      <td>391.000000</td>\n",
       "      <td>5400.000000</td>\n",
       "      <td>5.000000</td>\n",
       "    </tr>\n",
       "  </tbody>\n",
       "</table>\n",
       "</div>"
      ],
      "text/plain": [
       "         is_canceled      lead_time  arrival_date_year  \\\n",
       "count  118902.000000  118902.000000      118902.000000   \n",
       "mean        0.371373     104.308027        2016.157617   \n",
       "std         0.483174     106.903127           0.707479   \n",
       "min         0.000000       0.000000        2015.000000   \n",
       "25%         0.000000      18.000000        2016.000000   \n",
       "50%         0.000000      69.000000        2016.000000   \n",
       "75%         1.000000     161.000000        2017.000000   \n",
       "max         1.000000     737.000000        2017.000000   \n",
       "\n",
       "       arrival_date_week_number  arrival_date_day_of_month  \\\n",
       "count             118902.000000              118902.000000   \n",
       "mean                  27.166726                  15.800567   \n",
       "std                   13.589774                   8.780371   \n",
       "min                    1.000000                   1.000000   \n",
       "25%                   16.000000                   8.000000   \n",
       "50%                   28.000000                  16.000000   \n",
       "75%                   38.000000                  23.000000   \n",
       "max                   53.000000                  31.000000   \n",
       "\n",
       "       stays_in_weekend_nights  stays_in_week_nights         adults  \\\n",
       "count            118902.000000         118902.000000  118902.000000   \n",
       "mean                  0.928891              2.502136       1.858404   \n",
       "std                   0.996211              1.900165       0.578576   \n",
       "min                   0.000000              0.000000       0.000000   \n",
       "25%                   0.000000              1.000000       2.000000   \n",
       "50%                   1.000000              2.000000       2.000000   \n",
       "75%                   2.000000              3.000000       2.000000   \n",
       "max                  16.000000             41.000000      55.000000   \n",
       "\n",
       "       is_repeated_guest  previous_cancellations  \\\n",
       "count      118902.000000           118902.000000   \n",
       "mean            0.032010                0.087139   \n",
       "std             0.176026                0.845855   \n",
       "min             0.000000                0.000000   \n",
       "25%             0.000000                0.000000   \n",
       "50%             0.000000                0.000000   \n",
       "75%             0.000000                0.000000   \n",
       "max             1.000000               26.000000   \n",
       "\n",
       "       previous_bookings_not_canceled  booking_changes  days_in_waiting_list  \\\n",
       "count                   118902.000000    118902.000000         118902.000000   \n",
       "mean                         0.131629         0.221174              2.330676   \n",
       "std                          1.484647         0.652775             17.630161   \n",
       "min                          0.000000         0.000000              0.000000   \n",
       "25%                          0.000000         0.000000              0.000000   \n",
       "50%                          0.000000         0.000000              0.000000   \n",
       "75%                          0.000000         0.000000              0.000000   \n",
       "max                         72.000000        21.000000            391.000000   \n",
       "\n",
       "                 adr  total_of_special_requests  \n",
       "count  118902.000000              118902.000000  \n",
       "mean      102.000808                   0.571706  \n",
       "std        50.487004                   0.792678  \n",
       "min        -6.380000                   0.000000  \n",
       "25%        70.000000                   0.000000  \n",
       "50%        95.000000                   0.000000  \n",
       "75%       126.000000                   1.000000  \n",
       "max      5400.000000                   5.000000  "
      ]
     },
     "execution_count": 124,
     "metadata": {},
     "output_type": "execute_result"
    }
   ],
   "source": [
    "Df.describe()"
   ]
  },
  {
   "cell_type": "code",
   "execution_count": 125,
   "id": "5fae723f",
   "metadata": {},
   "outputs": [
    {
     "data": {
      "text/plain": [
       "<AxesSubplot: xlabel='days_in_waiting_list'>"
      ]
     },
     "execution_count": 125,
     "metadata": {},
     "output_type": "execute_result"
    },
    {
     "data": {
      "image/png": "[encoded data removed]",
      "text/plain": [
       "<Figure size 640x480 with 1 Axes>"
      ]
     },
     "metadata": {},
     "output_type": "display_data"
    }
   ],
   "source": [
    "sns.boxplot(Df['days_in_waiting_list'])"
   ]
  },
  {
   "cell_type": "code",
   "execution_count": 126,
   "id": "9c46cd8b",
   "metadata": {},
   "outputs": [
    {
     "data": {
      "text/plain": [
       "747"
      ]
     },
     "execution_count": 126,
     "metadata": {},
     "output_type": "execute_result"
    }
   ],
   "source": [
    "Df[Df['days_in_waiting_list']>100]['days_in_waiting_list'].value_counts().sum()"
   ]
  },
  {
   "cell_type": "markdown",
   "id": "c5145cfa",
   "metadata": {},
   "source": [
    "#### There are only 747 values which waiting time is greater than 100 we can condider as outlier"
   ]
  },
  {
   "cell_type": "code",
   "execution_count": 127,
   "id": "9da3fc96",
   "metadata": {},
   "outputs": [],
   "source": [
    "Df = Df[Df['days_in_waiting_list']<100]"
   ]
  },
  {
   "cell_type": "code",
   "execution_count": 128,
   "id": "b13f23ee",
   "metadata": {},
   "outputs": [
    {
     "data": {
      "text/plain": [
       "<AxesSubplot: xlabel='days_in_waiting_list'>"
      ]
     },
     "execution_count": 128,
     "metadata": {},
     "output_type": "execute_result"
    },
    {
     "data": {
      "image/png": "[encoded data removed]",
      "text/plain": [
       "<Figure size 640x480 with 1 Axes>"
      ]
     },
     "metadata": {},
     "output_type": "display_data"
    }
   ],
   "source": [
    "sns.boxplot(Df['days_in_waiting_list'])"
   ]
  },
  {
   "cell_type": "code",
   "execution_count": 129,
   "id": "1aca2448",
   "metadata": {},
   "outputs": [
    {
     "data": {
      "text/plain": [
       "<AxesSubplot: xlabel='adr'>"
      ]
     },
     "execution_count": 129,
     "metadata": {},
     "output_type": "execute_result"
    },
    {
     "data": {
      "image/png": "[encoded data removed]",
      "text/plain": [
       "<Figure size 640x480 with 1 Axes>"
      ]
     },
     "metadata": {},
     "output_type": "display_data"
    }
   ],
   "source": [
    "sns.boxplot(Df['adr'])"
   ]
  },
  {
   "cell_type": "code",
   "execution_count": 130,
   "id": "33844952",
   "metadata": {},
   "outputs": [
    {
     "data": {
      "text/plain": [
       "1242"
      ]
     },
     "execution_count": 130,
     "metadata": {},
     "output_type": "execute_result"
    }
   ],
   "source": [
    "Df[Df['adr']>250]['adr'].value_counts().sum()"
   ]
  },
  {
   "cell_type": "code",
   "execution_count": 131,
   "id": "cb62c5be",
   "metadata": {},
   "outputs": [
    {
     "data": {
      "text/plain": [
       "(116825, 27)"
      ]
     },
     "execution_count": 131,
     "metadata": {},
     "output_type": "execute_result"
    }
   ],
   "source": [
    "Df = Df[Df['adr']<250]\n",
    "Df.shape"
   ]
  },
  {
   "cell_type": "code",
   "execution_count": 132,
   "id": "a48de0dd",
   "metadata": {},
   "outputs": [
    {
     "data": {
      "text/plain": [
       "<AxesSubplot: xlabel='adr'>"
      ]
     },
     "execution_count": 132,
     "metadata": {},
     "output_type": "execute_result"
    },
    {
     "data": {
      "image/png": "[encoded data removed]",
      "text/plain": [
       "<Figure size 640x480 with 1 Axes>"
      ]
     },
     "metadata": {},
     "output_type": "display_data"
    }
   ],
   "source": [
    "sns.boxplot(Df['adr'])"
   ]
  },
  {
   "cell_type": "code",
   "execution_count": 133,
   "id": "b25bbcdd",
   "metadata": {},
   "outputs": [
    {
     "data": {
      "text/plain": [
       "37"
      ]
     },
     "execution_count": 133,
     "metadata": {},
     "output_type": "execute_result"
    }
   ],
   "source": [
    "Df[Df['booking_changes']>8]['booking_changes'].value_counts().sum()"
   ]
  },
  {
   "cell_type": "code",
   "execution_count": 134,
   "id": "cab3c25b",
   "metadata": {},
   "outputs": [],
   "source": [
    "Df = Df[Df['booking_changes']<8]"
   ]
  },
  {
   "cell_type": "code",
   "execution_count": 135,
   "id": "a8464f3e",
   "metadata": {},
   "outputs": [
    {
     "data": {
      "text/plain": [
       "<AxesSubplot: xlabel='booking_changes'>"
      ]
     },
     "execution_count": 135,
     "metadata": {},
     "output_type": "execute_result"
    },
    {
     "data": {
      "image/png": "[encoded data removed]",
      "text/plain": [
       "<Figure size 640x480 with 1 Axes>"
      ]
     },
     "metadata": {},
     "output_type": "display_data"
    }
   ],
   "source": []
  },
  {
   "cell_type": "markdown",
   "id": "b71999ac",
   "metadata": {},
   "source": [
    "## Calculations of lost data during handeling missing value and outlier handeling"
   ]
  },
  {
   "cell_type": "code",
   "execution_count": 136,
   "id": "eb33f16a",
   "metadata": {},
   "outputs": [],
   "source": [
    "OrigData = pd.read_csv('hotel_bookings.csv')"
   ]
  },
  {
   "cell_type": "code",
   "execution_count": 164,
   "id": "34f286d3",
   "metadata": {},
   "outputs": [
    {
     "data": {
      "image/png": "[encoded data removed]",
      "text/plain": [
       "<Figure size 600x700 with 1 Axes>"
      ]
     },
     "metadata": {},
     "output_type": "display_data"
    },
    {
     "name": "stdout",
     "output_type": "stream",
     "text": [
      "lost data after missing value handeling is 2.192813468464692\n"
     ]
    }
   ],
   "source": [
    "x = [0,0.2]\n",
    "x_data = np.array(x)\n",
    "y = [100,len(Df)*100/len(OrigData)]\n",
    "plt.style.use('ggplot')\n",
    "plt.figure(figsize=(6,7))\n",
    "plt.title('Data lost before and after handeling missing values')\n",
    "plt.bar(x_data,y_data,width=0.1,edgecolor = 'k',linewidth=1)\n",
    "plt.ylim(50,102)\n",
    "plt.xticks(x_data, [\"before\", \"after\"])\n",
    "plt.show()\n",
    "print(\"lost data after missing value handeling is\", 100-len(Df)*100/len(OrigData))"
   ]
  },
  {
   "cell_type": "code",
   "execution_count": 165,
   "id": "cf6d6200",
   "metadata": {},
   "outputs": [
    {
     "data": {
      "text/html": [
       "<div>\n",
       "<style scoped>\n",
       "    .dataframe tbody tr th:only-of-type {\n",
       "        vertical-align: middle;\n",
       "    }\n",
       "\n",
       "    .dataframe tbody tr th {\n",
       "        vertical-align: top;\n",
       "    }\n",
       "\n",
       "    .dataframe thead th {\n",
       "        text-align: right;\n",
       "    }\n",
       "</style>\n",
       "<table border=\"1\" class=\"dataframe\">\n",
       "  <thead>\n",
       "    <tr style=\"text-align: right;\">\n",
       "      <th></th>\n",
       "      <th>hotel</th>\n",
       "      <th>is_canceled</th>\n",
       "      <th>lead_time</th>\n",
       "      <th>arrival_date_year</th>\n",
       "      <th>arrival_date_month</th>\n",
       "      <th>arrival_date_week_number</th>\n",
       "      <th>arrival_date_day_of_month</th>\n",
       "      <th>stays_in_weekend_nights</th>\n",
       "      <th>stays_in_week_nights</th>\n",
       "      <th>adults</th>\n",
       "      <th>...</th>\n",
       "      <th>reserved_room_type</th>\n",
       "      <th>assigned_room_type</th>\n",
       "      <th>booking_changes</th>\n",
       "      <th>deposit_type</th>\n",
       "      <th>days_in_waiting_list</th>\n",
       "      <th>customer_type</th>\n",
       "      <th>adr</th>\n",
       "      <th>total_of_special_requests</th>\n",
       "      <th>reservation_status</th>\n",
       "      <th>reservation_status_date</th>\n",
       "    </tr>\n",
       "  </thead>\n",
       "  <tbody>\n",
       "    <tr>\n",
       "      <th>0</th>\n",
       "      <td>Resort Hotel</td>\n",
       "      <td>0</td>\n",
       "      <td>342</td>\n",
       "      <td>2015</td>\n",
       "      <td>July</td>\n",
       "      <td>27</td>\n",
       "      <td>1</td>\n",
       "      <td>0</td>\n",
       "      <td>0</td>\n",
       "      <td>2</td>\n",
       "      <td>...</td>\n",
       "      <td>C</td>\n",
       "      <td>C</td>\n",
       "      <td>3</td>\n",
       "      <td>No Deposit</td>\n",
       "      <td>0</td>\n",
       "      <td>Transient</td>\n",
       "      <td>0.0</td>\n",
       "      <td>0</td>\n",
       "      <td>Check-Out</td>\n",
       "      <td>2015-07-01</td>\n",
       "    </tr>\n",
       "    <tr>\n",
       "      <th>1</th>\n",
       "      <td>Resort Hotel</td>\n",
       "      <td>0</td>\n",
       "      <td>737</td>\n",
       "      <td>2015</td>\n",
       "      <td>July</td>\n",
       "      <td>27</td>\n",
       "      <td>1</td>\n",
       "      <td>0</td>\n",
       "      <td>0</td>\n",
       "      <td>2</td>\n",
       "      <td>...</td>\n",
       "      <td>C</td>\n",
       "      <td>C</td>\n",
       "      <td>4</td>\n",
       "      <td>No Deposit</td>\n",
       "      <td>0</td>\n",
       "      <td>Transient</td>\n",
       "      <td>0.0</td>\n",
       "      <td>0</td>\n",
       "      <td>Check-Out</td>\n",
       "      <td>2015-07-01</td>\n",
       "    </tr>\n",
       "    <tr>\n",
       "      <th>2</th>\n",
       "      <td>Resort Hotel</td>\n",
       "      <td>0</td>\n",
       "      <td>7</td>\n",
       "      <td>2015</td>\n",
       "      <td>July</td>\n",
       "      <td>27</td>\n",
       "      <td>1</td>\n",
       "      <td>0</td>\n",
       "      <td>1</td>\n",
       "      <td>1</td>\n",
       "      <td>...</td>\n",
       "      <td>A</td>\n",
       "      <td>C</td>\n",
       "      <td>0</td>\n",
       "      <td>No Deposit</td>\n",
       "      <td>0</td>\n",
       "      <td>Transient</td>\n",
       "      <td>75.0</td>\n",
       "      <td>0</td>\n",
       "      <td>Check-Out</td>\n",
       "      <td>2015-07-02</td>\n",
       "    </tr>\n",
       "    <tr>\n",
       "      <th>3</th>\n",
       "      <td>Resort Hotel</td>\n",
       "      <td>0</td>\n",
       "      <td>13</td>\n",
       "      <td>2015</td>\n",
       "      <td>July</td>\n",
       "      <td>27</td>\n",
       "      <td>1</td>\n",
       "      <td>0</td>\n",
       "      <td>1</td>\n",
       "      <td>1</td>\n",
       "      <td>...</td>\n",
       "      <td>A</td>\n",
       "      <td>A</td>\n",
       "      <td>0</td>\n",
       "      <td>No Deposit</td>\n",
       "      <td>0</td>\n",
       "      <td>Transient</td>\n",
       "      <td>75.0</td>\n",
       "      <td>0</td>\n",
       "      <td>Check-Out</td>\n",
       "      <td>2015-07-02</td>\n",
       "    </tr>\n",
       "    <tr>\n",
       "      <th>4</th>\n",
       "      <td>Resort Hotel</td>\n",
       "      <td>0</td>\n",
       "      <td>14</td>\n",
       "      <td>2015</td>\n",
       "      <td>July</td>\n",
       "      <td>27</td>\n",
       "      <td>1</td>\n",
       "      <td>0</td>\n",
       "      <td>2</td>\n",
       "      <td>2</td>\n",
       "      <td>...</td>\n",
       "      <td>A</td>\n",
       "      <td>A</td>\n",
       "      <td>0</td>\n",
       "      <td>No Deposit</td>\n",
       "      <td>0</td>\n",
       "      <td>Transient</td>\n",
       "      <td>98.0</td>\n",
       "      <td>1</td>\n",
       "      <td>Check-Out</td>\n",
       "      <td>2015-07-03</td>\n",
       "    </tr>\n",
       "  </tbody>\n",
       "</table>\n",
       "<p>5 rows × 27 columns</p>\n",
       "</div>"
      ],
      "text/plain": [
       "          hotel  is_canceled  lead_time  arrival_date_year arrival_date_month  \\\n",
       "0  Resort Hotel            0        342               2015               July   \n",
       "1  Resort Hotel            0        737               2015               July   \n",
       "2  Resort Hotel            0          7               2015               July   \n",
       "3  Resort Hotel            0         13               2015               July   \n",
       "4  Resort Hotel            0         14               2015               July   \n",
       "\n",
       "   arrival_date_week_number  arrival_date_day_of_month  \\\n",
       "0                        27                          1   \n",
       "1                        27                          1   \n",
       "2                        27                          1   \n",
       "3                        27                          1   \n",
       "4                        27                          1   \n",
       "\n",
       "   stays_in_weekend_nights  stays_in_week_nights  adults  ...  \\\n",
       "0                        0                     0       2  ...   \n",
       "1                        0                     0       2  ...   \n",
       "2                        0                     1       1  ...   \n",
       "3                        0                     1       1  ...   \n",
       "4                        0                     2       2  ...   \n",
       "\n",
       "  reserved_room_type assigned_room_type booking_changes deposit_type  \\\n",
       "0                  C                  C               3   No Deposit   \n",
       "1                  C                  C               4   No Deposit   \n",
       "2                  A                  C               0   No Deposit   \n",
       "3                  A                  A               0   No Deposit   \n",
       "4                  A                  A               0   No Deposit   \n",
       "\n",
       "   days_in_waiting_list  customer_type   adr total_of_special_requests  \\\n",
       "0                     0      Transient   0.0                         0   \n",
       "1                     0      Transient   0.0                         0   \n",
       "2                     0      Transient  75.0                         0   \n",
       "3                     0      Transient  75.0                         0   \n",
       "4                     0      Transient  98.0                         1   \n",
       "\n",
       "  reservation_status  reservation_status_date  \n",
       "0          Check-Out               2015-07-01  \n",
       "1          Check-Out               2015-07-01  \n",
       "2          Check-Out               2015-07-02  \n",
       "3          Check-Out               2015-07-02  \n",
       "4          Check-Out               2015-07-03  \n",
       "\n",
       "[5 rows x 27 columns]"
      ]
     },
     "execution_count": 165,
     "metadata": {},
     "output_type": "execute_result"
    }
   ],
   "source": [
    "Df.head()"
   ]
  },
  {
   "cell_type": "markdown",
   "id": "3e385313",
   "metadata": {},
   "source": [
    "## Cancilation analysis on hotel type:[city hotel, resort_hotel]"
   ]
  },
  {
   "cell_type": "code",
   "execution_count": 607,
   "id": "bd4b9a40",
   "metadata": {},
   "outputs": [
    {
     "data": {
      "image/png": "[encoded data removed]",
      "text/plain": [
       "<Figure size 640x480 with 1 Axes>"
      ]
     },
     "metadata": {},
     "output_type": "display_data"
    },
    {
     "name": "stdout",
     "output_type": "stream",
     "text": [
      "City hotel cancelation rate is  41.60608190123299\n",
      "resort hotel cancelation rate is  27.794946373386658\n"
     ]
    }
   ],
   "source": [
    "hotel_cat_df = Df[['hotel','is_canceled']]\n",
    "\n",
    "hotel_cat_df.is_canceled.replace(0,'not_cancel', inplace = True)\n",
    "hotel_cat_df.is_canceled.replace(1,'cancel', inplace = True)\n",
    "sns.countplot(data=hotel_cat_df, x = 'hotel', hue='is_canceled')\n",
    "\n",
    "plt.title(\"Cancelation city hotel vs resort hotels\")\n",
    "plt.show()\n",
    "\n",
    "city_hot = hotel_cat_df[hotel_cat_df['hotel'] == 'City Hotel']['is_canceled']\n",
    "city_can_rate = list(city_hot.value_counts(normalize=True)*100)[1]\n",
    "\n",
    "Resort_hot = hotel_cat_df[hotel_cat_df['hotel'] == 'Resort Hotel']['is_canceled']\n",
    "resort_can_rate = list(Resort_hot.value_counts(normalize=True)*100)[1]\n",
    "print('City hotel cancelation rate is ', city_can_rate)\n",
    "print('resort hotel cancelation rate is ', resort_can_rate)"
   ]
  },
  {
   "cell_type": "markdown",
   "id": "7ca4ffb3",
   "metadata": {},
   "source": [
    "### Form this data we can clearly see the city hotel cancelation rate is too high need to find out the reason \n",
    "### may be the reason is price lets find out this"
   ]
  },
  {
   "cell_type": "code",
   "execution_count": 306,
   "id": "d56751c1",
   "metadata": {},
   "outputs": [
    {
     "data": {
      "image/png": "[encoded data removed]",
      "text/plain": [
       "<Figure size 640x480 with 1 Axes>"
      ]
     },
     "metadata": {},
     "output_type": "display_data"
    },
    {
     "name": "stdout",
     "output_type": "stream",
     "text": [
      "price different is  13.85343655636666\n"
     ]
    }
   ],
   "source": [
    "city_hotel_main = Df[Df['hotel'] == 'City Hotel']\n",
    "city_hotel = city_hotel_main[['reservation_status_date','adr','is_canceled']]\n",
    "avg_city_hotel_price = np.array(city_hotel['adr']).mean()\n",
    "\n",
    "resort_hotel_main = Df[Df['hotel'] == 'Resort Hotel']\n",
    "resort_hotel = resort_hotel_main[['reservation_status_date','adr','is_canceled']]\n",
    "avg_resort_hotel_price = np.array(resort_hotel['adr']).mean()\n",
    "\n",
    "sns.barplot(data = pd.DataFrame({\"hotel_type\": [\"avg_city_hotel_price\",\"avg_resort_hotel_price\"],\n",
    "                                 \"avg_price\":[avg_city_hotel_price,avg_resort_hotel_price]}),\n",
    "           x =\"hotel_type\" , y = \"avg_price\" )\n",
    "plt.show()\n",
    "print(\"price different is \" ,avg_city_hotel_price-avg_resort_hotel_price)"
   ]
  },
  {
   "cell_type": "code",
   "execution_count": 307,
   "id": "828d6ef8",
   "metadata": {},
   "outputs": [],
   "source": [
    "resort_hotel_main = Df[Df['hotel'] == 'Resort Hotel']\n",
    "\n"
   ]
  },
  {
   "cell_type": "markdown",
   "id": "210ec239",
   "metadata": {},
   "source": [
    "### as we can see price can effect cancelation rate but it is not a big factor here so we need to analyse data date wise average price"
   ]
  },
  {
   "cell_type": "code",
   "execution_count": 314,
   "id": "39095133",
   "metadata": {},
   "outputs": [],
   "source": [
    "city_hotel = city_hotel_main[['reservation_status_date','adr','is_canceled']]\n",
    "\n",
    "city_hotel['month'] = city_hotel['reservation_status_date'].dt.month\n",
    "\n",
    "city_hotel['year'] = city_hotel['reservation_status_date'].dt.year\n",
    "\n",
    "city_hotel['day'] = city_hotel['reservation_status_date'].dt.day"
   ]
  },
  {
   "cell_type": "code",
   "execution_count": 315,
   "id": "cca20bfb",
   "metadata": {},
   "outputs": [],
   "source": [
    "resort_hotel =resort_hotel_main[['reservation_status_date','adr','is_canceled']]\n",
    "\n",
    "resort_hotel['month'] =resort_hotel['reservation_status_date'].dt.month\n",
    "\n",
    "resort_hotel['year'] =resort_hotel['reservation_status_date'].dt.year\n",
    "\n",
    "resort_hotel['day'] = resort_hotel['reservation_status_date'].dt.day"
   ]
  },
  {
   "cell_type": "code",
   "execution_count": 456,
   "id": "9819c257",
   "metadata": {},
   "outputs": [
    {
     "data": {
      "image/png": "[encoded data removed]",
      "text/plain": [
       "<Figure size 640x480 with 1 Axes>"
      ]
     },
     "metadata": {},
     "output_type": "display_data"
    }
   ],
   "source": [
    "city_hotel_day_grpby = city_hotel.groupby('day')[['adr']].mean()\n",
    "plt.plot(city_hotel_day_grpby.index,city_hotel_day_grpby['adr'])\n",
    "\n",
    "resort_hotel_day_grpby = resort_hotel.groupby('day')[['adr']].mean()\n",
    "plt.plot(resort_hotel_day_grpby.index,resort_hotel_day_grpby['adr'])\n",
    "\n",
    "plt.legend([\"city hotel\", \"resort hotel\"])\n",
    "plt.show()"
   ]
  },
  {
   "cell_type": "markdown",
   "id": "b2801d2c",
   "metadata": {},
   "source": [
    "## From the above month we can conclude that city hotel have all time average high price during any month City hotel price should be drop a little"
   ]
  },
  {
   "cell_type": "markdown",
   "id": "c0629d27",
   "metadata": {},
   "source": [
    "### City hotel have high value during june sept we need to find out that time cancelation rate"
   ]
  },
  {
   "cell_type": "code",
   "execution_count": 609,
   "id": "2d5584ed",
   "metadata": {},
   "outputs": [
    {
     "data": {
      "image/png": "[encoded data removed]",
      "text/plain": [
       "<Figure size 640x480 with 1 Axes>"
      ]
     },
     "metadata": {},
     "output_type": "display_data"
    },
    {
     "name": "stdout",
     "output_type": "stream",
     "text": [
      "pic time cancelation reduced by  4.195811306414138 %\n"
     ]
    }
   ],
   "source": [
    "resort_h_june_t_sept = resort_hotel[resort_hotel['month'] >5][resort_hotel[resort_hotel['month'] >5]['month']<10]\n",
    "\n",
    "l = [6,7,8,9]\n",
    "flag = True\n",
    "for i in l:\n",
    "    if flag:\n",
    "        resort_month_not_incl_june_t_sept = resort_hotel[resort_hotel['month'] != i]\n",
    "        flag = False\n",
    "    else:\n",
    "        resort_month_not_incl_june_t_sept = resort_month_not_incl_june_t_sept[resort_month_not_incl_june_t_sept['month'] != i]\n",
    "        \n",
    "pick_time_val = list(resort_h_june_t_sept.is_canceled.value_counts(normalize=True).values)\n",
    "off_time_val = list(resort_month_not_incl_june_t_sept.is_canceled.value_counts(normalize=True).values)\n",
    "\n",
    "for i in off_time_val:\n",
    "    pick_time_val.append(i)\n",
    "val = pick_time_val\n",
    "\n",
    "season = [\"pic_time\",\"pic_time\",\"off_time\",\"off_time\"]\n",
    "is_cancel = [\"not canceled\",\"canceled\",\"not canceled\",\"canceled\"]\n",
    "\n",
    "data =pd.DataFrame({\"season\":season,\"is_cancel\":is_cancel,\"value\":val})\n",
    "\n",
    "plt.title(\"cancelation rate off time vs pic time\")\n",
    "sns.barplot(data=data,x=\"season\",y = \"value\", hue=\"is_cancel\")\n",
    "plt.show()\n",
    "can_def_pick_vs_off_time = off_time_val[1] - pick_time_val[1]\n",
    "print(\"pic time cancelation reduced by \" , can_def_pick_vs_off_time*100 ,\"%\")"
   ]
  },
  {
   "cell_type": "markdown",
   "id": "2f515753",
   "metadata": {},
   "source": [
    "### So we can keep the price slightly high during pic time for resort it will not harm cancelation rate"
   ]
  },
  {
   "cell_type": "markdown",
   "id": "695f1301",
   "metadata": {},
   "source": [
    "# is waiting list has an effect on cancelation rate?"
   ]
  },
  {
   "cell_type": "markdown",
   "id": "280cf657",
   "metadata": {},
   "source": [
    "##### general analysis"
   ]
  },
  {
   "cell_type": "code",
   "execution_count": 617,
   "id": "021d2ab3",
   "metadata": {},
   "outputs": [
    {
     "data": {
      "image/png": "[encoded data removed]",
      "text/plain": [
       "<Figure size 640x480 with 1 Axes>"
      ]
     },
     "metadata": {},
     "output_type": "display_data"
    }
   ],
   "source": [
    "WaitDf = Df[['days_in_waiting_list', 'is_canceled']]\n",
    "WaitDf.is_canceled.replace(0,'not canceled',inplace=True)\n",
    "WaitDf.is_canceled.replace(1,'canceled', inplace=True)\n",
    "\n",
    "WaitDf = WaitDf[WaitDf.days_in_waiting_list < 6]\n",
    "\n",
    "plt.title('Depandancy of cancelation on waiting_list days')\n",
    "sns.countplot(data=WaitDf , x = 'days_in_waiting_list', hue='is_canceled' )\n",
    "plt.show()"
   ]
  },
  {
   "cell_type": "markdown",
   "id": "eaad6534",
   "metadata": {},
   "source": [
    "#### From the above data we can clearly seen than cancelation is not depended on waiting list"
   ]
  },
  {
   "cell_type": "code",
   "execution_count": 620,
   "id": "20bd61d7",
   "metadata": {},
   "outputs": [],
   "source": [
    "Df.is_canceled.replace(0, 'not_canceled', inplace=True)\n",
    "Df.is_canceled.replace(1, 'canceled', inplace=True)"
   ]
  },
  {
   "cell_type": "code",
   "execution_count": 623,
   "id": "3f84adf9",
   "metadata": {},
   "outputs": [
    {
     "data": {
      "text/plain": [
       "Index(['hotel', 'is_canceled', 'lead_time', 'arrival_date_year',\n",
       "       'arrival_date_month', 'arrival_date_week_number',\n",
       "       'arrival_date_day_of_month', 'stays_in_weekend_nights',\n",
       "       'stays_in_week_nights', 'adults', 'meal', 'country', 'market_segment',\n",
       "       'distribution_channel', 'is_repeated_guest', 'previous_cancellations',\n",
       "       'previous_bookings_not_canceled', 'reserved_room_type',\n",
       "       'assigned_room_type', 'booking_changes', 'deposit_type',\n",
       "       'days_in_waiting_list', 'customer_type', 'adr',\n",
       "       'total_of_special_requests', 'reservation_status',\n",
       "       'reservation_status_date'],\n",
       "      dtype='object')"
      ]
     },
     "execution_count": 623,
     "metadata": {},
     "output_type": "execute_result"
    }
   ],
   "source": [
    "Df.columns"
   ]
  },
  {
   "cell_type": "markdown",
   "id": "7f487813",
   "metadata": {},
   "source": [
    "## Depancy on Meal"
   ]
  },
  {
   "cell_type": "code",
   "execution_count": 667,
   "id": "9710cf82",
   "metadata": {},
   "outputs": [],
   "source": [
    "meal_df = Df[['is_canceled','meal']]\n",
    "\n",
    "meal_df.replace('Undefined',meal_df['meal'].mode()[0], inplace=True)"
   ]
  },
  {
   "cell_type": "code",
   "execution_count": 669,
   "id": "5a77833e",
   "metadata": {},
   "outputs": [
    {
     "data": {
      "image/png": "[encoded data removed]",
      "text/plain": [
       "<Figure size 640x480 with 1 Axes>"
      ]
     },
     "metadata": {},
     "output_type": "display_data"
    }
   ],
   "source": [
    "plt.title(\"Cancelatation dependancy on \")\n",
    "sns.countplot(data = meal_df, x = 'meal' , hue='is_canceled')\n",
    "plt.show()"
   ]
  },
  {
   "cell_type": "code",
   "execution_count": 694,
   "id": "174c5548",
   "metadata": {},
   "outputs": [],
   "source": [
    "keys = meal_df.value_counts().keys()\n",
    "meal_type = []\n",
    "is_canceled = []\n",
    "for i in range(len(keys)):\n",
    "    is_canceled.append(meal_df.value_counts().keys()[i][0])\n",
    "    meal_type.append(meal_df.value_counts().keys()[i][1])\n",
    "    \n",
    "values_count = meal_df.value_counts(normalize=True).values*100\n",
    "\n",
    "meal_df = pd.DataFrame({'meal_type':meal_type,'is_canceled':is_canceled,'values_count':values_count})"
   ]
  },
  {
   "cell_type": "code",
   "execution_count": 739,
   "id": "b19a2d25",
   "metadata": {},
   "outputs": [],
   "source": [
    "ratio_can_by_meal = [meal_df[meal_df.meal_type == 'BB'].iloc[1,-1]/(meal_df[meal_df.meal_type == 'BB'].iloc[0,-1]+meal_df[meal_df.meal_type == 'BB'].iloc[1,-1]),\n",
    "                     meal_df[meal_df.meal_type == 'HB'].iloc[1,-1]/(meal_df[meal_df.meal_type == 'HB'].iloc[0,-1]+meal_df[meal_df.meal_type == 'HB'].iloc[1,-1]),\n",
    "                     meal_df[meal_df.meal_type == 'SC'].iloc[1,-1]/(meal_df[meal_df.meal_type == 'SC'].iloc[0,-1]+meal_df[meal_df.meal_type == 'SC'].iloc[1,-1]),\n",
    "                     meal_df[meal_df.meal_type == 'FB'].iloc[1,-1]/(meal_df[meal_df.meal_type == 'FB'].iloc[0,-1]+meal_df[meal_df.meal_type == 'FB'].iloc[1,-1])]\n",
    "\n",
    "meal_type = ['BB','HB','SC','FB']\n",
    "ratio_of_can_by_meal = pd.DataFrame({'ratio_can_by_meal':ratio_can_by_meal,'meal_type':meal_type})"
   ]
  },
  {
   "cell_type": "code",
   "execution_count": 740,
   "id": "a6cbb54c",
   "metadata": {},
   "outputs": [],
   "source": [
    "ratio_of_can_by_meal.sort_values(by=['ratio_can_by_meal'], inplace=True)"
   ]
  },
  {
   "cell_type": "code",
   "execution_count": 741,
   "id": "366ffab8",
   "metadata": {},
   "outputs": [
    {
     "data": {
      "image/png": "[encoded data removed]",
      "text/plain": [
       "<Figure size 640x480 with 1 Axes>"
      ]
     },
     "metadata": {},
     "output_type": "display_data"
    }
   ],
   "source": [
    "sns.barplot(data=ratio_of_can_by_meal,x='meal_type', y='ratio_can_by_meal')\n",
    "plt.title('Cancelation dependency on meal')\n",
    "plt.show()"
   ]
  },
  {
   "cell_type": "markdown",
   "id": "23062cf5",
   "metadata": {},
   "source": [
    "### From this data we can clearly seen that HB has the low cancelation rate"
   ]
  },
  {
   "cell_type": "code",
   "execution_count": 760,
   "id": "0a722ba5",
   "metadata": {},
   "outputs": [],
   "source": [
    "country_df = Df[['country','is_canceled']]"
   ]
  },
  {
   "cell_type": "code",
   "execution_count": 814,
   "id": "d75d2b04",
   "metadata": {},
   "outputs": [],
   "source": [
    "keys = country_df.value_counts()[country_df.value_counts()>299].keys()\n",
    "\n",
    "values = country_df.value_counts()[country_df.value_counts()>299].values\n"
   ]
  },
  {
   "cell_type": "code",
   "execution_count": 893,
   "id": "a39461f7",
   "metadata": {},
   "outputs": [],
   "source": [
    "country = []\n",
    "is_canceled = []\n",
    "for i in range(len(keys)):\n",
    "    country.append(keys[i][0])\n",
    "    is_canceled.append(keys[i][1])"
   ]
  },
  {
   "cell_type": "code",
   "execution_count": 894,
   "id": "751ff27a",
   "metadata": {},
   "outputs": [
    {
     "data": {
      "text/plain": [
       "<AxesSubplot: xlabel='country', ylabel='values'>"
      ]
     },
     "execution_count": 894,
     "metadata": {},
     "output_type": "execute_result"
    },
    {
     "data": {
      "image/png": "[encoded data removed]",
      "text/plain": [
       "<Figure size 1600x900 with 1 Axes>"
      ]
     },
     "metadata": {},
     "output_type": "display_data"
    }
   ],
   "source": [
    "country_wise_can = pd.DataFrame({'country':country, 'is_canceled':is_canceled, 'values':values})\n",
    "plt.figure(figsize=(16,9))\n",
    "sns.barplot(data=country_wise_can,x= 'country', y = 'values', hue='is_canceled')"
   ]
  },
  {
   "cell_type": "code",
   "execution_count": 996,
   "id": "afaf8cbd",
   "metadata": {},
   "outputs": [
    {
     "data": {
      "text/plain": [
       "country  is_canceled \n",
       "BEL      canceled          471\n",
       "         not_canceled     1848\n",
       "BRA      canceled          825\n",
       "         not_canceled     1373\n",
       "DEU      canceled         1211\n",
       "         not_canceled     5975\n",
       "ESP      canceled         2088\n",
       "         not_canceled     6208\n",
       "FRA      canceled         1904\n",
       "         not_canceled     8355\n",
       "GBR      canceled         2418\n",
       "         not_canceled     9578\n",
       "IRL      canceled          826\n",
       "         not_canceled     2531\n",
       "ITA      canceled         1317\n",
       "         not_canceled     2402\n",
       "NLD      canceled          381\n",
       "         not_canceled     1695\n",
       "PRT      canceled        26935\n",
       "         not_canceled    20665\n",
       "Name: is_canceled, dtype: int64"
      ]
     },
     "execution_count": 996,
     "metadata": {},
     "output_type": "execute_result"
    }
   ],
   "source": [
    "country_df = Df[['country','is_canceled']]\n",
    "country_df = country_df[country_df['country'].isin(top_10_country_whose_have_most_record)]\n",
    "country_df_grp_by_can_count = country_df.groupby(['country','is_canceled'])['is_canceled'].count()\n",
    "country_df_grp_by_can_count"
   ]
  },
  {
   "cell_type": "code",
   "execution_count": 1012,
   "id": "d43b79ba",
   "metadata": {},
   "outputs": [],
   "source": [
    "country = []\n",
    "is_canceled = []\n",
    "keys = country_df_grp_by_can_count.keys()\n",
    "for i in range(len(keys)):\n",
    "    country.append(keys[i][0])\n",
    "    is_canceled.append(keys[i][1])\n",
    "    \n",
    "values = country_df_grp_by_can_count.values"
   ]
  },
  {
   "cell_type": "code",
   "execution_count": 1013,
   "id": "b500aab5",
   "metadata": {},
   "outputs": [],
   "source": [
    "countryf = country[::2]\n",
    "cancel = values[::2]\n",
    "not_can = values[1::2]\n",
    "    "
   ]
  },
  {
   "cell_type": "code",
   "execution_count": 1015,
   "id": "4f2163d8",
   "metadata": {},
   "outputs": [
    {
     "data": {
      "text/plain": [
       "[20.310478654592497,\n",
       " 37.53412192902639,\n",
       " 16.85221263568049,\n",
       " 25.168756027000963,\n",
       " 18.559313773272248,\n",
       " 20.1567189063021,\n",
       " 24.60530235329163,\n",
       " 35.41274536165636,\n",
       " 18.352601156069365,\n",
       " 56.58613445378151]"
      ]
     },
     "execution_count": 1015,
     "metadata": {},
     "output_type": "execute_result"
    }
   ],
   "source": [
    "per_val = []\n",
    "for i in range(len(countryf)):\n",
    "    v = cancel[i]*100/(cancel[i]+not_can[i])\n",
    "    per_val.append(v)\n",
    "per_val"
   ]
  },
  {
   "cell_type": "code",
   "execution_count": 1017,
   "id": "55dfd1f1",
   "metadata": {},
   "outputs": [],
   "source": [
    "can_rate_by_per = pd.DataFrame({'countryf':countryf,'per_val':per_val})"
   ]
  },
  {
   "cell_type": "code",
   "execution_count": null,
   "id": "9adcb1e6",
   "metadata": {},
   "outputs": [],
   "source": []
  },
  {
   "cell_type": "code",
   "execution_count": null,
   "id": "be82f9df",
   "metadata": {},
   "outputs": [],
   "source": []
  },
  {
   "cell_type": "code",
   "execution_count": null,
   "id": "36c6f721",
   "metadata": {},
   "outputs": [],
   "source": []
  },
  {
   "cell_type": "code",
   "execution_count": null,
   "id": "17e20421",
   "metadata": {},
   "outputs": [],
   "source": []
  },
  {
   "cell_type": "markdown",
   "id": "cd5b9ef9",
   "metadata": {},
   "source": [
    "### PRT have severe cancelation rate need to find out the reason"
   ]
  },
  {
   "cell_type": "code",
   "execution_count": 914,
   "id": "6450586a",
   "metadata": {},
   "outputs": [],
   "source": [
    "adr_by_country = Df[['country','adr']]"
   ]
  },
  {
   "cell_type": "code",
   "execution_count": 915,
   "id": "6915bea3",
   "metadata": {},
   "outputs": [],
   "source": [
    "top_10_country_whose_have_most_record = adr_by_country.country.value_counts().keys()[:10]"
   ]
  },
  {
   "cell_type": "code",
   "execution_count": 916,
   "id": "21b29eae",
   "metadata": {},
   "outputs": [],
   "source": [
    "adr_of_top_10_country = adr_by_country[adr_by_country['country'].isin(top_10_country_whose_have_most_record)]"
   ]
  },
  {
   "cell_type": "code",
   "execution_count": 917,
   "id": "078479fd",
   "metadata": {},
   "outputs": [],
   "source": [
    "avg_rate_by_country = adr_of_top_10_country.groupby('country')[['adr']].mean()\n",
    "#avg_rate_by_country.sort_values('adr',inplace=True)"
   ]
  },
  {
   "cell_type": "code",
   "execution_count": 909,
   "id": "3d0fe6b2",
   "metadata": {},
   "outputs": [
    {
     "data": {
      "text/plain": [
       "<AxesSubplot: xlabel='country', ylabel='adr'>"
      ]
     },
     "execution_count": 909,
     "metadata": {},
     "output_type": "execute_result"
    },
    {
     "data": {
      "image/png": "[encoded data removed]",
      "text/plain": [
       "<Figure size 640x480 with 1 Axes>"
      ]
     },
     "metadata": {},
     "output_type": "display_data"
    }
   ],
   "source": [
    "sns.barplot(data=avg_rate_by_country,x=avg_rate_by_country.index,y='adr')"
   ]
  },
  {
   "cell_type": "code",
   "execution_count": 957,
   "id": "0ae760d3",
   "metadata": {},
   "outputs": [],
   "source": [
    "country_with_adr_and_cancelation = Df[['country','is_canceled','adr']]"
   ]
  },
  {
   "cell_type": "code",
   "execution_count": 966,
   "id": "9a4d68ce",
   "metadata": {},
   "outputs": [],
   "source": [
    "country_with_10_no_of_records = country_with_adr_and_cancelation[country_with_adr_and_cancelation.country.isin(top_10_country_whose_have_most_record)]"
   ]
  },
  {
   "cell_type": "code",
   "execution_count": 971,
   "id": "1bcad034",
   "metadata": {},
   "outputs": [],
   "source": [
    "top_10_country_grpby_adr_mean = country_with_10_no_of_records.groupby(by=['country','is_canceled'])['adr'].mean()"
   ]
  },
  {
   "cell_type": "code",
   "execution_count": 972,
   "id": "ac274812",
   "metadata": {},
   "outputs": [
    {
     "data": {
      "text/plain": [
       "country  is_canceled \n",
       "BEL      canceled        122.180786\n",
       "         not_canceled    109.888268\n",
       "BRA      canceled        115.838000\n",
       "         not_canceled    105.521835\n",
       "DEU      canceled        119.217110\n",
       "         not_canceled    100.835962\n",
       "ESP      canceled        130.523649\n",
       "         not_canceled    105.276236\n",
       "FRA      canceled        124.090588\n",
       "         not_canceled    104.865566\n",
       "GBR      canceled        115.670335\n",
       "         not_canceled     89.704336\n",
       "IRL      canceled        108.771646\n",
       "         not_canceled     93.822647\n",
       "ITA      canceled        117.980942\n",
       "         not_canceled    109.826832\n",
       "NLD      canceled        119.397638\n",
       "         not_canceled    103.775475\n",
       "PRT      canceled         91.801514\n",
       "         not_canceled     87.475654\n",
       "Name: adr, dtype: float64"
      ]
     },
     "execution_count": 972,
     "metadata": {},
     "output_type": "execute_result"
    }
   ],
   "source": [
    "top_10_country_grpby_adr_mean"
   ]
  },
  {
   "cell_type": "code",
   "execution_count": 977,
   "id": "c12a1a42",
   "metadata": {},
   "outputs": [
    {
     "data": {
      "text/html": [
       "<div>\n",
       "<style scoped>\n",
       "    .dataframe tbody tr th:only-of-type {\n",
       "        vertical-align: middle;\n",
       "    }\n",
       "\n",
       "    .dataframe tbody tr th {\n",
       "        vertical-align: top;\n",
       "    }\n",
       "\n",
       "    .dataframe thead th {\n",
       "        text-align: right;\n",
       "    }\n",
       "</style>\n",
       "<table border=\"1\" class=\"dataframe\">\n",
       "  <thead>\n",
       "    <tr style=\"text-align: right;\">\n",
       "      <th></th>\n",
       "      <th>country</th>\n",
       "      <th>is_canceled</th>\n",
       "      <th>values</th>\n",
       "    </tr>\n",
       "  </thead>\n",
       "  <tbody>\n",
       "    <tr>\n",
       "      <th>0</th>\n",
       "      <td>BEL</td>\n",
       "      <td>canceled</td>\n",
       "      <td>122.180786</td>\n",
       "    </tr>\n",
       "    <tr>\n",
       "      <th>1</th>\n",
       "      <td>BEL</td>\n",
       "      <td>not_canceled</td>\n",
       "      <td>109.888268</td>\n",
       "    </tr>\n",
       "    <tr>\n",
       "      <th>2</th>\n",
       "      <td>BRA</td>\n",
       "      <td>canceled</td>\n",
       "      <td>115.838000</td>\n",
       "    </tr>\n",
       "    <tr>\n",
       "      <th>3</th>\n",
       "      <td>BRA</td>\n",
       "      <td>not_canceled</td>\n",
       "      <td>105.521835</td>\n",
       "    </tr>\n",
       "    <tr>\n",
       "      <th>4</th>\n",
       "      <td>DEU</td>\n",
       "      <td>canceled</td>\n",
       "      <td>119.217110</td>\n",
       "    </tr>\n",
       "    <tr>\n",
       "      <th>5</th>\n",
       "      <td>DEU</td>\n",
       "      <td>not_canceled</td>\n",
       "      <td>100.835962</td>\n",
       "    </tr>\n",
       "    <tr>\n",
       "      <th>6</th>\n",
       "      <td>ESP</td>\n",
       "      <td>canceled</td>\n",
       "      <td>130.523649</td>\n",
       "    </tr>\n",
       "    <tr>\n",
       "      <th>7</th>\n",
       "      <td>ESP</td>\n",
       "      <td>not_canceled</td>\n",
       "      <td>105.276236</td>\n",
       "    </tr>\n",
       "    <tr>\n",
       "      <th>8</th>\n",
       "      <td>FRA</td>\n",
       "      <td>canceled</td>\n",
       "      <td>124.090588</td>\n",
       "    </tr>\n",
       "    <tr>\n",
       "      <th>9</th>\n",
       "      <td>FRA</td>\n",
       "      <td>not_canceled</td>\n",
       "      <td>104.865566</td>\n",
       "    </tr>\n",
       "    <tr>\n",
       "      <th>10</th>\n",
       "      <td>GBR</td>\n",
       "      <td>canceled</td>\n",
       "      <td>115.670335</td>\n",
       "    </tr>\n",
       "    <tr>\n",
       "      <th>11</th>\n",
       "      <td>GBR</td>\n",
       "      <td>not_canceled</td>\n",
       "      <td>89.704336</td>\n",
       "    </tr>\n",
       "    <tr>\n",
       "      <th>12</th>\n",
       "      <td>IRL</td>\n",
       "      <td>canceled</td>\n",
       "      <td>108.771646</td>\n",
       "    </tr>\n",
       "    <tr>\n",
       "      <th>13</th>\n",
       "      <td>IRL</td>\n",
       "      <td>not_canceled</td>\n",
       "      <td>93.822647</td>\n",
       "    </tr>\n",
       "    <tr>\n",
       "      <th>14</th>\n",
       "      <td>ITA</td>\n",
       "      <td>canceled</td>\n",
       "      <td>117.980942</td>\n",
       "    </tr>\n",
       "    <tr>\n",
       "      <th>15</th>\n",
       "      <td>ITA</td>\n",
       "      <td>not_canceled</td>\n",
       "      <td>109.826832</td>\n",
       "    </tr>\n",
       "    <tr>\n",
       "      <th>16</th>\n",
       "      <td>NLD</td>\n",
       "      <td>canceled</td>\n",
       "      <td>119.397638</td>\n",
       "    </tr>\n",
       "    <tr>\n",
       "      <th>17</th>\n",
       "      <td>NLD</td>\n",
       "      <td>not_canceled</td>\n",
       "      <td>103.775475</td>\n",
       "    </tr>\n",
       "    <tr>\n",
       "      <th>18</th>\n",
       "      <td>PRT</td>\n",
       "      <td>canceled</td>\n",
       "      <td>91.801514</td>\n",
       "    </tr>\n",
       "    <tr>\n",
       "      <th>19</th>\n",
       "      <td>PRT</td>\n",
       "      <td>not_canceled</td>\n",
       "      <td>87.475654</td>\n",
       "    </tr>\n",
       "  </tbody>\n",
       "</table>\n",
       "</div>"
      ],
      "text/plain": [
       "   country   is_canceled      values\n",
       "0      BEL      canceled  122.180786\n",
       "1      BEL  not_canceled  109.888268\n",
       "2      BRA      canceled  115.838000\n",
       "3      BRA  not_canceled  105.521835\n",
       "4      DEU      canceled  119.217110\n",
       "5      DEU  not_canceled  100.835962\n",
       "6      ESP      canceled  130.523649\n",
       "7      ESP  not_canceled  105.276236\n",
       "8      FRA      canceled  124.090588\n",
       "9      FRA  not_canceled  104.865566\n",
       "10     GBR      canceled  115.670335\n",
       "11     GBR  not_canceled   89.704336\n",
       "12     IRL      canceled  108.771646\n",
       "13     IRL  not_canceled   93.822647\n",
       "14     ITA      canceled  117.980942\n",
       "15     ITA  not_canceled  109.826832\n",
       "16     NLD      canceled  119.397638\n",
       "17     NLD  not_canceled  103.775475\n",
       "18     PRT      canceled   91.801514\n",
       "19     PRT  not_canceled   87.475654"
      ]
     },
     "execution_count": 977,
     "metadata": {},
     "output_type": "execute_result"
    }
   ],
   "source": [
    "country = []\n",
    "is_canceled = []\n",
    "sot = top_10_country_grpby_adr_mean\n",
    "\n",
    "for i in range(len(sot)):\n",
    "    country.append(sot.index[i][0])\n",
    "    is_canceled.append(sot.index[i][1])\n",
    "values = sot.values\n",
    "mean_dataF = pd.DataFrame({'country':country,'is_canceled':is_canceled,'values':values})\n",
    "mean_dataF"
   ]
  },
  {
   "cell_type": "code",
   "execution_count": 992,
   "id": "bd43fb52",
   "metadata": {},
   "outputs": [
    {
     "data": {
      "image/png": "[encoded data removed]",
      "text/plain": [
       "<Figure size 1600x900 with 1 Axes>"
      ]
     },
     "metadata": {},
     "output_type": "display_data"
    }
   ],
   "source": [
    "plt.figure(figsize=(16,9))\n",
    "plt.title(\" Avg Price of 10 Country Cancelation VS not Cancelation\")\n",
    "sns.barplot(data=mean_dataF, x = 'country',y = 'values' , hue='is_canceled')\n",
    "plt.show()"
   ]
  },
  {
   "cell_type": "markdown",
   "id": "1a4bf0f2",
   "metadata": {},
   "source": [
    "### From the above Graph we can conclude that price is a factor wich is effecting the cancelation rate higher"
   ]
  },
  {
   "cell_type": "code",
   "execution_count": null,
   "id": "3536302d",
   "metadata": {},
   "outputs": [],
   "source": []
  }
 ],
 "metadata": {
  "kernelspec": {
   "display_name": "Python 3 (ipykernel)",
   "language": "python",
   "name": "python3"
  },
  "language_info": {
   "codemirror_mode": {
    "name": "ipython",
    "version": 3
   },
   "file_extension": ".py",
   "mimetype": "text/x-python",
   "name": "python",
   "nbconvert_exporter": "python",
   "pygments_lexer": "ipython3",
   "version": "3.9.13"
  }
 },
 "nbformat": 4,
 "nbformat_minor": 5
}
